{
  "cells": [
    {
      "cell_type": "markdown",
      "metadata": {
        "id": "view-in-github",
        "colab_type": "text"
      },
      "source": [
        "<a href=\"https://colab.research.google.com/github/SamGu-NRX/ToolVectors/blob/main/MSJD_Code_Skeleton_API_BANK.ipynb\" target=\"_parent\"><img src=\"https://colab.research.google.com/assets/colab-badge.svg\" alt=\"Open In Colab\"/></a>"
      ]
    },
    {
      "cell_type": "markdown",
      "metadata": {
        "id": "jKNLsguwR03C"
      },
      "source": [
        "Downloading Required Libraries"
      ]
    },
    {
      "cell_type": "code",
      "execution_count": null,
      "metadata": {
        "id": "ZFnAwMUKP8g_"
      },
      "outputs": [],
      "source": [
        "!!pip install transformers datasets seaborn\n",
        "!pip install transformers -U\n",
        "!pip install accelerate -U\n",
        "!pip install torch==2.2.1\n",
        "!pip install --upgrade datasets\n",
        "!pip install --upgrade transformers\n",
        "!pip install einops\n",
        "\n",
        "#!pip freeze"
      ]
    },
    {
      "cell_type": "code",
      "execution_count": null,
      "metadata": {
        "id": "3LT31rgLjl4l"
      },
      "outputs": [],
      "source": [
        "'''\n",
        "!apt-get install git-lfs\n",
        "!git lfs install\n",
        "\n",
        "%cd \"/content/drive/My Drive/MSJD_ToolVectors/Resources\"\n",
        "!git clone https://huggingface.co/datasets/liminghao1630/API-Bank\n",
        "!git clone https://github.com/mlfoundations/task_vectors.git\n",
        "'''"
      ]
    },
    {
      "cell_type": "code",
      "execution_count": null,
      "metadata": {
        "id": "bZbN0dxqSAhA"
      },
      "outputs": [],
      "source": [
        "from datasets import load_dataset, concatenate_datasets\n",
        "from transformers import T5ForConditionalGeneration, T5Tokenizer, Trainer, TrainingArguments, AutoTokenizer, AutoModelForCausalLM, AutoModelForQuestionAnswering\n",
        "import json, torch, os, glob, shutil, sys\n",
        "# append task_vectors\n",
        "sys.path.append('/content/drive/My Drive/MSJD_ToolVectors/Resource/task_vector/src')\n"
      ]
    },
    {
      "cell_type": "code",
      "execution_count": null,
      "metadata": {
        "id": "AJ3Ed4eswTzd"
      },
      "outputs": [],
      "source": [
        "# OFFICIAL CODE STARTS HERE\n",
        "\n",
        "    # train_dataset = train_dataset.map(lambda example: {'output': example.get('output', None)})\n",
        "    # test_dataset = test_dataset.remove_columns(['file', 'expected_output', 'id'])\n",
        "\n",
        "# Connecting to google drive\n",
        "from google.colab import drive\n",
        "drive.mount('/content/drive')\n",
        "\n",
        "# Testing\n",
        "# !ls \"/content/drive/My Drive/MSJD_ToolVectors/Resources/API-Bank\"\n",
        "\n",
        "\n",
        "# Paths to the dataset directories\n",
        "test_dataset_path = '/content/drive/My Drive/MSJD_ToolVectors/Resources/API-Bank/test-data'\n",
        "train_dataset_path = '/content/drive/My Drive/MSJD_ToolVectors/Resources/API-Bank/training-data'\n",
        "#IMPORTANT HERE\n",
        "\n",
        "test_dataset = load_dataset(test_dataset_path)\n",
        "print(\"Test Dataset Structure:\", test_dataset)\n",
        "\n",
        "# Load the training dataset\n",
        "train_dataset = load_dataset(train_dataset_path)\n",
        "print(\"Train Dataset Structure:\", train_dataset)\n",
        "sample_dataset = train_dataset['train'].train_test_split(test_size=0.1)['test']\n",
        "print(\"Sample Train Dataset Structure:\", sample_dataset)\n"
      ]
    },
    {
      "cell_type": "code",
      "execution_count": null,
      "metadata": {
        "colab": {
          "background_save": true
        },
        "id": "KLOZ7DFbpBh0"
      },
      "outputs": [],
      "source": [
        "tokenizer = T5Tokenizer.from_pretrained(\"google/flan-t5-small\")\n",
        "model = T5ForConditionalGeneration.from_pretrained(\"google/flan-t5-small\", device_map=\"auto\")\n",
        "\n",
        "input_text = \"translate English to German: How old are you?\"\n",
        "input_ids = tokenizer(input_text, return_tensors=\"pt\").input_ids.to(\"cpu\")\n",
        "\n",
        "outputs = model.generate(input_ids)\n",
        "print(tokenizer.decode(outputs[0]))\n",
        "\n",
        "\n",
        "# Function to tokenize QA dataset\n",
        "def tokenize_QA(examples):\n",
        "    return tokenizer(examples['context'], examples['question'], padding='max_length', truncation=True)\n",
        "\n",
        "# Function to tokenize math datasets\n",
        "def tokenize_math(examples):\n",
        "    # Using 'Question' if present, otherwise 'question'\n",
        "    question_key = 'Question' if 'Question' in examples else 'question'\n",
        "    return tokenizer(examples[question_key], padding='max_length', truncation=True)\n",
        "\n",
        "\n",
        "def standardize_features(dataset):\n",
        "    standardized_output = {\n",
        "        'input_ids': dataset['input_ids'],\n",
        "        'attention_mask': dataset['attention_mask'],\n",
        "    }\n",
        "    # Add 'labels' or any other required fields if applicable\n",
        "    return standardized_output\n",
        "\n",
        "# #tokenize all the datasets\n",
        "def preprocess_function(examples):\n",
        "    inputs = examples[\"input\"]  # Use the \"input\" column as model input\n",
        "    outputs = examples[\"output\"] # Use the \"output\" column as the target for the model\n",
        "    model_inputs = tokenizer(inputs, max_length=512, truncation=True)\n",
        "\n",
        "    # Prepare labels\n",
        "    with tokenizer.as_target_tokenizer():\n",
        "        labels = tokenizer(outputs, max_length=128, truncation=True)\n",
        "    model_inputs[\"labels\"] = labels[\"input_ids\"]\n",
        "    return model_inputs\n",
        "\n",
        "# tokenizing a sample\n",
        "tokenized_datasets = sample_dataset.map(preprocess_function, batched=True)\n"
      ]
    },
    {
      "cell_type": "code",
      "execution_count": null,
      "metadata": {
        "id": "MxRoUZJ2T-42"
      },
      "outputs": [],
      "source": [
        "# if Trainer doesn't work, then use the method here: https://colab.research.google.com/drive/1o_vqhywATCFtRoQZCoH5W1fB6XUG7o6L?usp=sharing\n",
        "\n",
        "training_args = TrainingArguments(\n",
        "    output_dir=\"./results\",\n",
        "    evaluation_strategy=\"steps\",\n",
        "    eval_steps=500,  # Evaluation and logging happen every 500 steps\n",
        "    logging_dir=\"./logs\",  # Directory for storing logs\n",
        "    logging_steps=100,  # Log metrics every 100 steps\n",
        "\n",
        "    learning_rate=5e-5,\n",
        "    per_device_train_batch_size=16,\n",
        "    per_device_eval_batch_size=16,\n",
        "    num_train_epochs=3,\n",
        "    weight_decay=0.01,\n",
        ")\n",
        "\n",
        "trainer = Trainer(\n",
        "    model=model,\n",
        "    args=training_args,\n",
        "    train_dataset=tokenized_datasets[\"train\"],\n",
        "    eval_dataset=tokenized_datasets[\"validation\"], # change to test (?)\n",
        ")\n",
        "\n",
        "trainer.train()\n"
      ]
    },
    {
      "cell_type": "code",
      "execution_count": null,
      "metadata": {
        "id": "Bjt0uTiLZQgO"
      },
      "outputs": [],
      "source": [
        "%load_ext tensorboard\n",
        "%tensorboard --logdir /content/logs"
      ]
    },
    {
      "cell_type": "code",
      "execution_count": null,
      "metadata": {
        "id": "K_lQpfvRZeiw"
      },
      "outputs": [],
      "source": [
        "# Evaluation\n",
        "from sklearn.metrics import accuracy_score\n",
        "\n",
        "def compute_metrics(eval_pred):\n",
        "    logits, labels = eval_pred\n",
        "    predictions = np.argmax(logits, axis=-1)\n",
        "    return {\"accuracy\": accuracy_score(labels, predictions)}\n",
        "\n",
        "# Update the Trainer object if needed\n",
        "trainer = Trainer(\n",
        "    model=model,\n",
        "    args=training_args,\n",
        "    train_dataset=tokenized_datasets[\"train\"],\n",
        "    eval_dataset=tokenized_datasets[\"validation\"],\n",
        "    compute_metrics=compute_metrics,\n",
        ")\n",
        "\n",
        "# Now, evaluate the model\n",
        "eval_results = trainer.evaluate(tokenized_datasets[\"test\"])\n",
        "print(results)\n"
      ]
    },
    {
      "cell_type": "code",
      "execution_count": null,
      "metadata": {
        "id": "8MzdnBRGZmnt"
      },
      "outputs": [],
      "source": [
        "# Epoch-loss graph\n",
        "# Assuming you have stored training metrics in a variable 'history'\n",
        "import matplotlib.pyplot as plt\n",
        "import seaborn as sns\n",
        "\n",
        "epochs = range(1, len(history['loss']) + 1)\n",
        "sns.lineplot(x=epochs, y=history['loss'], label='Training Loss')\n",
        "plt.xlabel('Epochs')\n",
        "plt.ylabel('Loss')\n",
        "plt.title('Training Loss Over Time')\n",
        "plt.legend()\n",
        "plt.show()\n"
      ]
    },
    {
      "cell_type": "code",
      "execution_count": null,
      "metadata": {
        "id": "ygMy4U0cUYky"
      },
      "outputs": [],
      "source": [
        "model.save_pretrained(\"/content/drive/My Drive/MSJD_ToolVectors/flan-t5-pretriained/model\")\n",
        "\n",
        "model_save_path = \"/content/drive/My Drive/MSJD_ToolVectors/flan-t5-finetuned/API-Bank/model\"\n",
        "tokenizer_save_path = \"/content/drive/My Drive/MSJD_ToolVectors/flan-t5-finetuned/API-Bank/tokenizer\"\n",
        "model.save_pretrained(model_save_path)\n",
        "tokenizer.save_pretrained(tokenizer_save_path)\n",
        "\n",
        "# Save training arguments and evaluation results\n",
        "args_save_path = \"/content/drive/My Drive/MSJD_ToolVectors/flan-t5-finetuned/API-Bank/training_args.json\"\n",
        "\n",
        "eval_save_path = \"/content/drive/My Drive/MSJD_ToolVectors/flan-t5-finetuned/API-Bank/eval_results.json\"\n",
        "\n",
        "with open(args_save_path, 'w') as f:\n",
        "    json.dump(training_args.to_dict(), f)\n",
        "with open(eval_save_path, 'w') as f:\n",
        "    json.dump(eval_results, f)\n",
        "\n",
        "# torch, save weights\n",
        "torch.save(model.state_dict(), \"/content/drive/My Drive/MSJD_ToolVectors/flan-t5-finetuned/API-Bank/model_state_dict\")"
      ]
    },
    {
      "cell_type": "code",
      "execution_count": null,
      "metadata": {
        "id": "4knh2hoxBf_b"
      },
      "outputs": [],
      "source": [
        "import task_vectors import TaskVector\n",
        "from vector_eval import eval_single_dataset\n",
        "from vector_args import parse_arguments\n",
        "\n",
        "# Config\n",
        "dataset = 'API-Bank'\n",
        "model = 'flan-t5-small'\n",
        "args = parse_arguments()\n",
        "args.data_location = '/content/drive/My Drive/MSJD_ToolVectors/flan-t5-finetuned/API-Bank/args'\n",
        "args.model = model\n",
        "args.save = f'checkpoints/{model}'\n",
        "pretrained_checkpoint = f'checkpoints/{model}/zeroshot.pt'\n",
        "finetuned_checkpoint = f'checkpoints/{model}/{dataset}/finetuned.pt'\n",
        "\n",
        "\n",
        "# Create the task vector\n",
        "task_vector = TaskVector(pretrained_checkpoint, finetuned_checkpoint)\n",
        "# Negate the task vector\n",
        "neg_task_vector = -task_vector\n",
        "# Apply the task vector\n",
        "image_encoder = neg_task_vector.apply_to(pretrained_checkpoint, scaling_coef=0.5)\n",
        "# Evaluate\n",
        "eval_single_dataset(image_encoder, dataset, args)\n",
        "eval_single_dataset(image_encoder, 'ImageNet', args)"
      ]
    },
    {
      "cell_type": "markdown",
      "metadata": {
        "id": "E55_XcYkydgJ"
      },
      "source": [
        "Archived Code Segments"
      ]
    },
    {
      "cell_type": "code",
      "execution_count": null,
      "metadata": {
        "id": "1WIGqxDk7Q-A"
      },
      "outputs": [],
      "source": [
        "'''\n",
        "#checking training vs testing datasets\n",
        "squad_dataset = load_dataset('squad')\n",
        "asdiv_dataset = load_dataset(\"cq01/mawps-asdiv-a_svamp\", split=\"train\")\n",
        "svamp_dataset = load_dataset(\"ChilleD/SVAMP\", split=\"train\")\n",
        "mawps_dataset = load_dataset(\"MU-NLPC/Calc-mawps\", split=\"train\")\n",
        "gsm8k_train_dataset = load_dataset(\"gsm8k\", \"main\", split=\"train\")\n",
        "gsm8k_test_dataset = load_dataset(\"gsm8k\", \"main\", split=\"test\")\n",
        "\n",
        "print(\"SQuAD example:\", squad_dataset)\n",
        "print(\"ASDiv example:\", asdiv_dataset)\n",
        "print(\"SVAMP example:\", svamp_dataset)\n",
        "print(\"MAWPS example:\", mawps_dataset)\n",
        "print(\"GSM8k Train example:\", gsm8k_train_dataset)\n",
        "print(\"GSM8k Test example:\", gsm8k_test_dataset)\n",
        "'''\n",
        "# ---------------------------\n",
        "\n",
        "'''\n",
        "\n",
        "# Load dataset (e.g., SQuAD)\n",
        "squad_dataset = load_dataset('squad', split=\"train\") # Q&A\n",
        "# Google-RE, T-REx might require manual download or specific loading instructions\n",
        "lama_dataset = load_dataset(\"lama\")\n",
        "\n",
        "\n",
        "# Assuming ASDiv, SVAMP, MAWPS, and GSM8k datasets are in a compatible format and stored locally\n",
        "\n",
        "#load all datasets\n",
        "asdiv_dataset = load_dataset(\"cq01/mawps-asdiv-a_svamp\", split='train[:1%]')\n",
        "webqsp_train_dataset = load_dataset(\"rmanluo/RoG-webqsp\", split='train[:1%]')\n",
        "svamp_dataset = load_dataset(\"ChilleD/SVAMP\", split='train[:1%]')\n",
        "mawps_dataset = load_dataset(\"MU-NLPC/Calc-mawps\", split='train[:1%]')\n",
        "gsm8k_train_dataset = load_dataset(\"gsm8k\", \"main\", split='train[:1%]')\n",
        "\n",
        "\n",
        "# checking id labels\n",
        "print(\"SQuAD example:\", squad_dataset[0])\n",
        "print(\"ASDiv example:\", asdiv_dataset[0])\n",
        "print(\"SVAMP example:\", svamp_dataset[0])\n",
        "print(\"MAWPS example:\", mawps_dataset[0])\n",
        "print(\"GSM8k Train example:\", gsm8k_train_dataset[0])\n",
        "print(\"GSM8k Test example:\", gsm8k_test_dataset[0])\n",
        "\n",
        "def preprocess_function(examples):\n",
        "    # Modify this function according to the structure of your dataset\n",
        "    inputs = examples[\"input_column_name\"]  # Replace with the actual column name\n",
        "    outputs = examples[\"output_column_name\"]  # Replace with the actual output column name\n",
        "    model_inputs = tokenizer(inputs, max_length=512, truncation=True, padding='max_length')\n",
        "    with tokenizer.as_target_tokenizer():\n",
        "        labels = tokenizer(outputs, max_length=128, truncation=True, padding='max_length')\n",
        "    model_inputs[\"labels\"] = labels[\"input_ids\"]\n",
        "    return model_inputs\n",
        "\n",
        "# tokenized_datasets = dataset.map(preprocess_function, batched=True)\n",
        "\n",
        "\n",
        "squad_tokenized = squad_dataset.map(tokenize_QA, batched=True)\n",
        "asdiv_tokenized = asdiv_dataset.map(tokenize_math, batched=True)\n",
        "svamp_tokenized = svamp_dataset.map(tokenize_math, batched=True)\n",
        "mawps_tokenized = mawps_dataset.map(tokenize_math, batched=True)\n",
        "gsm8k_train_tokenized = gsm8k_train_dataset.map(tokenize_math, batched=True)\n",
        "gsm8k_test_tokenized = gsm8k_test_dataset.map(tokenize_math, batched=True)\n",
        "\n",
        "#standardize all the datasets\n",
        "squad_standardized = squad_tokenized.map(standardize_features, batched=True)\n",
        "asdiv_standardized = asdiv_tokenized.map(standardize_features, batched=True)\n",
        "svamp_standardized = svamp_tokenized.map(standardize_features, batched=True)\n",
        "mawps_standardized = mawps_tokenized.map(standardize_features, batched=True)\n",
        "gsm8k_standardized = gsm8k_train_tokenized.map(standardize_features, batched=True)\n",
        "\n",
        "combined_math_dataset = concatenate_datasets([\n",
        "    asdiv_standardized, svamp_standardized,\n",
        "    mawps_standardized, gsm8k_standardized\n",
        "])\n",
        "\n",
        "\n",
        "# possibly change this, if needed. By default, maybe don't use this.\n",
        "def preprocess_function(examples):\n",
        "    inputs = [\"question: \" + q + \" context: \" + c for q, c in zip(examples['question'], examples['context'])]\n",
        "    targets = [a['text'][0] if len(a['text']) > 0 else \"\" for a in examples['answers']]\n",
        "    model_inputs = tokenizer(inputs, max_length=512, truncation=True, padding='max_length')\n",
        "\n",
        "    # Setup the tokenizer for targets\n",
        "    with tokenizer.as_target_tokenizer():\n",
        "        labels = tokenizer(targets, max_length=128, truncation=True, padding='max_length')\n",
        "\n",
        "    model_inputs[\"labels\"] = labels[\"input_ids\"]\n",
        "    return model_inputs\n",
        "\n",
        "tokenized_datasets = combined_math_dataset.map(preprocess_function, batched=True)\n",
        "\n",
        "# combined_QA_datasets = concatenate_datasets([squad_tokenized['train'], ])\n",
        "'''"
      ]
    }
  ],
  "metadata": {
    "accelerator": "GPU",
    "colab": {
      "gpuType": "T4",
      "provenance": [],
      "include_colab_link": true
    },
    "kernelspec": {
      "display_name": "Python 3",
      "name": "python3"
    },
    "language_info": {
      "name": "python"
    }
  },
  "nbformat": 4,
  "nbformat_minor": 0
}